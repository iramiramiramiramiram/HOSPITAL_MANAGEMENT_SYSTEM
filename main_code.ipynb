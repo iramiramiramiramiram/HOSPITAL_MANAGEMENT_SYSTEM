{
 "cells": [
  {
   "cell_type": "code",
   "execution_count": 3,
   "id": "e6d7c1ce",
   "metadata": {},
   "outputs": [
    {
     "name": "stderr",
     "output_type": "stream",
     "text": [
      "[nltk_data] Downloading package omw-1.4 to\n",
      "[nltk_data]     /Users/iramkamdar/nltk_data...\n",
      "[nltk_data]   Package omw-1.4 is already up-to-date!\n",
      "2024-03-11 12:57:01.364095: I tensorflow/core/platform/cpu_feature_guard.cc:182] This TensorFlow binary is optimized to use available CPU instructions in performance-critical operations.\n",
      "To enable the following instructions: AVX2 AVX512F AVX512_VNNI FMA, in other operations, rebuild TensorFlow with the appropriate compiler flags.\n",
      "[nltk_data] Downloading package omw-1.4 to\n",
      "[nltk_data]     /Users/iramkamdar/nltk_data...\n",
      "[nltk_data]   Package omw-1.4 is already up-to-date!\n"
     ]
    }
   ],
   "source": [
    "import spacy\n",
    "import sqlite3\n",
    "from sqlite3 import Error\n",
    "\n",
    "# Load spaCy English model\n",
    "nlp = spacy.load(\"en_core_web_sm\")"
   ]
  },
  {
   "cell_type": "code",
   "execution_count": 5,
   "id": "d1e53389",
   "metadata": {},
   "outputs": [],
   "source": [
    "def create_connection(db_file):\n",
    "    \"\"\"Create and return a database connection.\"\"\"\n",
    "    try:\n",
    "        conn = sqlite3.connect(db_file)\n",
    "        print(\"Connection established.\")\n",
    "        return conn\n",
    "    except Error as e:\n",
    "        print(e)\n",
    "    return None"
   ]
  },
  {
   "cell_type": "code",
   "execution_count": 6,
   "id": "20d9a3e2",
   "metadata": {},
   "outputs": [],
   "source": [
    "def initialize_db(conn):\n",
    "    \"\"\"Initialize the database with required tables.\"\"\"\n",
    "    try:\n",
    "        c = conn.cursor()\n",
    "        c.execute('''CREATE TABLE IF NOT EXISTS Patients (id INTEGER PRIMARY KEY, name TEXT, age INTEGER, sex TEXT,contact_info INTEGER);''')\n",
    "        c.execute('''CREATE TABLE IF NOT EXISTS Appointments (id INTEGER PRIMARY KEY, patient_id INTEGER, doctor_id INTEGER, date TEXT, time TEXT, status TEXT, FOREIGN KEY(patient_id) REFERENCES Patients(id), FOREIGN KEY(doctor_id) REFERENCES Doctors(id));''')\n",
    "        c.execute('''CREATE TABLE IF NOT EXISTS Doctors (id INTEGER PRIMARY KEY, name TEXT, specialization TEXT);''')\n",
    "        c.execute('''CREATE TABLE IF NOT EXISTS Feedback (id INTEGER PRIMARY KEY, appointment_id INTEGER, patient_id INTEGER, comments TEXT, rating INTEGER, FOREIGN KEY(appointment_id) REFERENCES Appointments(id), FOREIGN KEY(patient_id) REFERENCES Patients(id));''')\n",
    "        print(\"Database initialized.\")\n",
    "    except Error as e:\n",
    "        print(e)"
   ]
  },
  {
   "cell_type": "code",
   "execution_count": 7,
   "id": "a3586fb7",
   "metadata": {},
   "outputs": [],
   "source": [
    "def insert_patient(conn, name, age, sex, contact_info):\n",
    "    \"\"\"Insert a new patient into the Patients table and return the patient ID.\"\"\"\n",
    "    sql = '''INSERT INTO Patients(name, age, sex, contact_info) VALUES(?, ?, ?, ?)'''\n",
    "    cur = conn.cursor()\n",
    "    cur.execute(sql, (name, age, sex, contact_info))\n",
    "    conn.commit()\n",
    "    return cur.lastrowid"
   ]
  },
  {
   "cell_type": "code",
   "execution_count": 8,
   "id": "5a239f7e",
   "metadata": {},
   "outputs": [],
   "source": [
    "def list_patients(conn):\n",
    "    \"\"\"List all patients in the database.\"\"\"\n",
    "    sql = 'SELECT id, name, age, sex, contact_info FROM Patients ORDER BY id;'\n",
    "    try:\n",
    "        cur = conn.cursor()\n",
    "        cur.execute(sql)\n",
    "        print(\"List of Patients:\")\n",
    "        print(f\"{'ID':<5} {'Name':<20} {'Age':<5} {'Sex':<10} {'Contact Info'}\")\n",
    "        print(\"-\" * 60)\n",
    "        patients = cur.fetchall()\n",
    "        for patient in patients:\n",
    "            print(f\"{patient[0]:<5} {patient[1]:<20} {patient[2]:<5} {patient[3]:<10} {patient[4]}\")\n",
    "    except Error as e:\n",
    "        print(\"An error occurred:\", e)\n"
   ]
  },
  {
   "cell_type": "code",
   "execution_count": 9,
   "id": "63665be6",
   "metadata": {},
   "outputs": [],
   "source": [
    "def schedule_appointment(conn, patient_id, doctor_id, date, time):\n",
    "    \"\"\"Schedule a new appointment.\"\"\"\n",
    "    sql = '''INSERT INTO Appointments(patient_id, doctor_id, date, time, status)\n",
    "             VALUES(?, ?, ?, ?, 'Scheduled');'''\n",
    "    try:\n",
    "        cur = conn.cursor()\n",
    "        cur.execute(sql, (patient_id, doctor_id, date, time))\n",
    "        conn.commit()\n",
    "        print(f\"Appointment scheduled successfully for {date} at {time}.\")\n",
    "    except Error as e:\n",
    "        print(\"An error occurred while scheduling the appointment:\", e)\n"
   ]
  },
  {
   "cell_type": "code",
   "execution_count": 10,
   "id": "0cfca75b",
   "metadata": {},
   "outputs": [],
   "source": [
    "def process_input(conn, user_input):\n",
    "    \"\"\"Process user input, recognizing intents and interacting with the database.\"\"\"\n",
    "    doc = nlp(user_input)  # Assuming `nlp` is previously defined and loaded with spaCy\n",
    "    if \"list patients\" in user_input.lower():\n",
    "        list_patients(conn)\n",
    "    elif \"list appointments\" in user_input.lower():\n",
    "        list_scheduled_appointments(conn)\n",
    "    elif \"schedule appointment\" in user_input.lower():\n",
    "        print(\"Let's schedule your appointment.\")\n",
    "        patient_name = input(\"Enter your name: \")\n",
    "        age = input(\"Enter your age: \")\n",
    "        sex = input(\"Enter your sex (M/F/Other): \")\n",
    "        contact_info = input(\"Enter your contact info: \")\n",
    "        \n",
    "        # Insert the patient and get their unique ID\n",
    "        patient_id = insert_patient(conn, patient_name, age, sex, contact_info)\n",
    "        \n",
    "        # Proceed with the scheduling process\n",
    "        process_input_for_scheduling(conn, patient_id)\n",
    "    \n",
    "    elif \"add doctor\" in user_input.lower():\n",
    "        print(\"Let's add a new doctor.\")\n",
    "        doctor_name = input(\"Enter the doctor's name: \")\n",
    "        specialization = input(\"Enter the doctor's specialization: \")\n",
    "        \n",
    "        # Insert the doctor into the database\n",
    "        insert_doctor(conn, doctor_name, specialization)\n",
    "\n",
    "    elif \"feedback\" in user_input.lower():\n",
    "        print(\"Recognized intent to provide feedback.\")\n",
    "        # Code to implement feedback submission goes here\n",
    "    \n",
    "    else:\n",
    "        print(\"Sorry, I didn't understand that.\")\n",
    "\n"
   ]
  },
  {
   "cell_type": "code",
   "execution_count": 11,
   "id": "8e754f29",
   "metadata": {},
   "outputs": [],
   "source": [
    "def process_input_for_scheduling(conn, patient_id):\n",
    "    \"\"\"Overall process for scheduling an appointment.\"\"\"\n",
    "    doctors = list_doctors(conn)\n",
    "    if not doctors:\n",
    "        print(\"Sorry, no doctors are available at the moment.\")\n",
    "        return\n",
    "    \n",
    "    doctor_id = select_doctor(doctors)\n",
    "    date = input(\"Enter the date for the appointment (YYYY-MM-DD): \")\n",
    "    \n",
    "    if not check_availability_and_schedule(conn, doctor_id, date, patient_id):\n",
    "        # Handle the case where no slots are available as needed\n",
    "        pass\n"
   ]
  },
  {
   "cell_type": "code",
   "execution_count": 12,
   "id": "88f3ccc0",
   "metadata": {},
   "outputs": [],
   "source": [
    "def list_scheduled_appointments(conn):\n",
    "    \"\"\"List all scheduled appointments.\"\"\"\n",
    "    sql = '''SELECT Appointments.id, Patients.name, Doctors.name, Appointments.date, Appointments.time, Appointments.status\n",
    "             FROM Appointments\n",
    "             JOIN Patients ON Appointments.patient_id = Patients.id\n",
    "             JOIN Doctors ON Appointments.doctor_id = Doctors.id\n",
    "             WHERE Appointments.status = 'Scheduled'\n",
    "             ORDER BY Appointments.date, Appointments.time;'''\n",
    "    try:\n",
    "        cur = conn.cursor()\n",
    "        cur.execute(sql)\n",
    "        appointments = cur.fetchall()\n",
    "\n",
    "        print(\"\\nScheduled Appointments:\")\n",
    "        for appt in appointments:\n",
    "            print(f\"Appointment ID: {appt[0]}, Patient: {appt[1]}, Doctor: {appt[2]}, Date: {appt[3]}, Time: {appt[4]}, Status: {appt[5]}\")\n",
    "    except Error as e:\n",
    "        print(\"An error occurred:\", e)\n",
    "        "
   ]
  },
  {
   "cell_type": "code",
   "execution_count": 13,
   "id": "a44b14ea",
   "metadata": {},
   "outputs": [],
   "source": [
    "def insert_doctor(conn, name, specialization):\n",
    "    \"\"\"Insert a new doctor into the Doctors table.\"\"\"\n",
    "    sql = '''INSERT INTO Doctors(name, specialization) VALUES(?, ?);'''\n",
    "    cur = conn.cursor()\n",
    "    cur.execute(sql, (name, specialization))\n",
    "    conn.commit()\n",
    "    print(f\"Doctor {name} added successfully.\")\n"
   ]
  },
  {
   "cell_type": "code",
   "execution_count": 14,
   "id": "78d2f9d4",
   "metadata": {},
   "outputs": [],
   "source": [
    "def list_doctors(conn):\n",
    "    \"\"\"List all available doctors.\"\"\"\n",
    "    sql = 'SELECT id, name, specialization FROM Doctors ORDER BY id;'\n",
    "    try:\n",
    "        cur = conn.cursor()\n",
    "        cur.execute(sql)\n",
    "        doctors = cur.fetchall()\n",
    "        print(\"List of Doctors:\")\n",
    "        for doctor in doctors:\n",
    "            print(f\"ID: {doctor[0]}, Name: {doctor[1]}, Specialization: {doctor[2]}\")\n",
    "        return doctors\n",
    "    except Error as e:\n",
    "        print(\"An error occurred:\", e)\n",
    "        return []"
   ]
  },
  {
   "cell_type": "code",
   "execution_count": 15,
   "id": "ae29e130",
   "metadata": {},
   "outputs": [],
   "source": [
    "def select_doctor(doctors):\n",
    "    \"\"\"Let the patient select a doctor by ID.\"\"\"\n",
    "    doctor_ids = [str(doctor[0]) for doctor in doctors]\n",
    "    selected_id = input(\"Enter the ID of the doctor you want to book an appointment with: \")\n",
    "    while selected_id not in doctor_ids:\n",
    "        print(\"Invalid ID. Please select a valid doctor ID.\")\n",
    "        selected_id = input(\"Enter the ID of the doctor you want to book an appointment with: \")\n",
    "    return selected_id\n"
   ]
  },
  {
   "cell_type": "code",
   "execution_count": 16,
   "id": "a6bc651d",
   "metadata": {},
   "outputs": [],
   "source": [
    "def check_availability_and_schedule(conn, doctor_id, date, patient_id):\n",
    "    \"\"\"Check availability for the selected doctor on the chosen date and schedule if possible.\"\"\"\n",
    "    # Check existing appointments for the doctor on the chosen date\n",
    "    sql = 'SELECT time FROM Appointments WHERE doctor_id = ? AND date = ? ORDER BY time;'\n",
    "    cur = conn.cursor()\n",
    "    cur.execute(sql, (doctor_id, date))\n",
    "    appointments = cur.fetchall()\n",
    "    \n",
    "    if len(appointments) >= 8:  # Assuming a doctor can have 8 appointments a day\n",
    "        print(\"No available slots for this day. Please book for another day.\")\n",
    "        return False\n",
    "    \n",
    "    # List available slots (assuming appointments are 1 hour each, for simplicity)\n",
    "    all_slots = [\"09:00\", \"10:00\", \"11:00\", \"12:00\", \"13:00\", \"14:00\", \"15:00\", \"16:00\"]\n",
    "    booked_slots = [appt[0] for appt in appointments]\n",
    "    available_slots = [slot for slot in all_slots if slot not in booked_slots]\n",
    "    \n",
    "    print(\"Available slots:\")\n",
    "    for slot in available_slots:\n",
    "        print(slot)\n",
    "    \n",
    "    selected_time = input(\"Select a time from the available slots: \")\n",
    "    while selected_time not in available_slots:\n",
    "        print(\"Invalid selection. Please select a valid time slot.\")\n",
    "        selected_time = input(\"Select a time from the available slots: \")\n",
    "    \n",
    "    # Schedule the appointment\n",
    "    # Example of a correct call\n",
    "    schedule_appointment(conn, patient_id, doctor_id, date, selected_time)\n",
    "\n",
    "    return True\n"
   ]
  },
  {
   "cell_type": "code",
   "execution_count": 17,
   "id": "c8fa1e16",
   "metadata": {},
   "outputs": [],
   "source": [
    "def show_available_slots(conn, date):\n",
    "    \"\"\"Show available slots for all doctors on a given date.\"\"\"\n",
    "    doctors = list_doctors(conn)\n",
    "    available_slots_by_doctor = {}\n",
    "    for doctor in doctors:\n",
    "        doctor_id = doctor[0]\n",
    "        print(f\"\\nChecking available slots for {doctor[1]} (ID: {doctor_id})...\")\n",
    "        slots = check_availability(conn, doctor_id, date)\n",
    "        if slots:\n",
    "            print(\"Available slots:\", \", \".join(slots))\n",
    "            available_slots_by_doctor[doctor_id] = slots\n",
    "        else:\n",
    "            print(\"No available slots for this doctor.\")\n",
    "    return available_slots_by_doctor\n"
   ]
  },
  {
   "cell_type": "code",
   "execution_count": 18,
   "id": "c2505256",
   "metadata": {},
   "outputs": [],
   "source": [
    "def complete_booking(conn, patient_id, available_slots_by_doctor):\n",
    "    \"\"\"Let the patient choose a doctor and an available slot for booking.\"\"\"\n",
    "    doctor_id = input(\"\\nEnter the ID of the doctor you want to book with: \")\n",
    "    if doctor_id not in available_slots_by_doctor:\n",
    "        print(\"Invalid doctor ID.\")\n",
    "        return\n",
    "    \n",
    "    selected_slot = input(\"Enter the slot you want to book (HH:MM): \")\n",
    "    if selected_slot not in available_slots_by_doctor[doctor_id]:\n",
    "        print(\"Invalid or unavailable slot.\")\n",
    "        return\n",
    "    \n",
    "    # Proceed with booking the appointment\n",
    "    date = input(\"For which date do you want to book the appointment? (YYYY-MM-DD): \")  # Assume the date is asked again or carried over\n",
    "    if schedule_appointment(conn, patient_id, doctor_id, date, selected_slot):\n",
    "        print(\"Appointment booked successfully.\")\n",
    "    else:\n",
    "        print(\"Failed to book the appointment.\")\n"
   ]
  },
  {
   "cell_type": "code",
   "execution_count": 19,
   "id": "e3c75452",
   "metadata": {},
   "outputs": [
    {
     "name": "stdout",
     "output_type": "stream",
     "text": [
      "Connection established.\n",
      "Database initialized.\n",
      "Let's schedule your appointment.\n",
      "List of Doctors:\n",
      "ID: 1, Name: Dr.Gulam Ali Kamdar, Specialization: Opthalmologist\n",
      "ID: 2, Name: Dr. Rajesvi, Specialization: Gastroenterologist \n",
      "ID: 3, Name: Dr.Gufrab, Specialization: Pulmonologist\n",
      "ID: 4, Name: Dr.Caroline, Specialization: Cardiologist\n",
      "Available slots:\n",
      "09:00\n",
      "10:00\n",
      "11:00\n",
      "12:00\n",
      "13:00\n",
      "14:00\n",
      "15:00\n",
      "16:00\n",
      "Appointment scheduled successfully for 2024-04-23 at 10:00.\n"
     ]
    }
   ],
   "source": [
    "\n",
    "def main():\n",
    "    db_file = \"hospital_management_system.db\"\n",
    "    conn = create_connection(db_file)\n",
    "    if conn:\n",
    "        initialize_db(conn)\n",
    "        while True:\n",
    "            user_input = input(\"How can I assist you today? (type 'exit' to quit): \")\n",
    "            if user_input.lower() == 'exit':\n",
    "                break\n",
    "            process_input(conn, user_input)\n",
    "        conn.close()\n",
    "    else:\n",
    "        print(\"Failed to create database connection.\")\n",
    "\n",
    "if __name__ == \"__main__\":\n",
    "    main()\n"
   ]
  },
  {
   "cell_type": "code",
   "execution_count": 20,
   "id": "875a0941",
   "metadata": {},
   "outputs": [
    {
     "name": "stdout",
     "output_type": "stream",
     "text": [
      "Connection established.\n",
      "Database initialized.\n"
     ]
    }
   ],
   "source": [
    "db_file = \"hospital_management_system.db\"\n",
    "conn = create_connection(db_file)\n",
    "if conn:\n",
    "     initialize_db(conn)\n",
    "else:\n",
    "    print(\"Failed to create database connection.\")"
   ]
  },
  {
   "cell_type": "code",
   "execution_count": 21,
   "id": "c8740b37",
   "metadata": {},
   "outputs": [],
   "source": [
    "import ipywidgets as widgets\n",
    "from IPython.display import display, clear_output\n"
   ]
  },
  {
   "cell_type": "code",
   "execution_count": 24,
   "id": "0cea0bf2",
   "metadata": {},
   "outputs": [
    {
     "data": {
      "application/vnd.jupyter.widget-view+json": {
       "model_id": "df96f227a4d64606a21ffbc96de4938f",
       "version_major": 2,
       "version_minor": 0
      },
      "text/plain": [
       "Text(value='', description='Name:', placeholder=\"Enter doctor's name\")"
      ]
     },
     "metadata": {},
     "output_type": "display_data"
    },
    {
     "data": {
      "application/vnd.jupyter.widget-view+json": {
       "model_id": "8a6267c219284859bf0304bc6571d441",
       "version_major": 2,
       "version_minor": 0
      },
      "text/plain": [
       "Text(value='', description='Specialization:', placeholder='Enter specialization')"
      ]
     },
     "metadata": {},
     "output_type": "display_data"
    },
    {
     "data": {
      "application/vnd.jupyter.widget-view+json": {
       "model_id": "0ffb0bb32b634b308be75ddfa0c879a2",
       "version_major": 2,
       "version_minor": 0
      },
      "text/plain": [
       "Button(description='Add Doctor', style=ButtonStyle())"
      ]
     },
     "metadata": {},
     "output_type": "display_data"
    },
    {
     "data": {
      "application/vnd.jupyter.widget-view+json": {
       "model_id": "e7ee8d2e343a4cf39e174e00ec21211b",
       "version_major": 2,
       "version_minor": 0
      },
      "text/plain": [
       "Output()"
      ]
     },
     "metadata": {},
     "output_type": "display_data"
    }
   ],
   "source": [
    " # Widgets for adding a doctor\n",
    "doctor_name_input = widgets.Text(\n",
    "    value='',\n",
    "    placeholder='Enter doctor\\'s name',\n",
    "    description='Name:',\n",
    "    disabled=False\n",
    ")\n",
    "\n",
    "doctor_specialization_input = widgets.Text(\n",
    "    value='',\n",
    "    placeholder='Enter specialization',\n",
    "    description='Specialization:',\n",
    "    disabled=False\n",
    ")\n",
    "\n",
    "add_doctor_button = widgets.Button(description=\"Add Doctor\")\n",
    "\n",
    "def on_add_doctor_button_clicked(b):\n",
    "    # Assuming `insert_doctor` function is correctly defined and `conn` is your database connection\n",
    "    insert_doctor(conn, doctor_name_input.value, doctor_specialization_input.value)\n",
    "    with output:\n",
    "        clear_output()\n",
    "        print(f\"Doctor {doctor_name_input.value} added successfully.\")\n",
    "\n",
    "add_doctor_button.on_click(on_add_doctor_button_clicked)\n",
    "\n",
    "output = widgets.Output()\n",
    "\n",
    "display(doctor_name_input, doctor_specialization_input, add_doctor_button, output)\n"
   ]
  },
  {
   "cell_type": "code",
   "execution_count": 22,
   "id": "aaad0289",
   "metadata": {},
   "outputs": [],
   "source": [
    "def chat_interface():\n",
    "    chat_output = widgets.Output()\n",
    "\n",
    "    def process_query(b):\n",
    "        with chat_output:\n",
    "            clear_output()\n",
    "            user_query = text_input.value.lower()\n",
    "            if \"list doctors\" in user_query:\n",
    "                # Assume list_doctors function is defined\n",
    "                list_doctors(conn)  # Make sure conn is your active SQLite connection\n",
    "            elif \"schedule appointment\" in user_query:\n",
    "                display(appointment_interface())\n",
    "            # Add more conditions for different functionalities\n",
    "            else:\n",
    "                print(\"How can I help you?\")\n",
    "\n",
    "    text_input = widgets.Text(description=\"You: \", placeholder=\"Type here...\")\n",
    "    submit_button = widgets.Button(description=\"Submit\")\n",
    "    submit_button.on_click(process_query)\n",
    "\n",
    "    display(text_input, submit_button, chat_output)\n"
   ]
  },
  {
   "cell_type": "code",
   "execution_count": 39,
   "id": "04bc8d31",
   "metadata": {},
   "outputs": [
    {
     "name": "stdout",
     "output_type": "stream",
     "text": [
      "List of Doctors:\n",
      "ID: 1, Name: Dr.Gulam Ali Kamdar, Specialization: Opthalmologist\n",
      "ID: 2, Name: Dr. Rajesvi, Specialization: Gastroenterologist \n",
      "ID: 3, Name: Dr.Gufrab, Specialization: Pulmonologist\n",
      "ID: 4, Name: Dr.Caroline, Specialization: Cardiologist\n"
     ]
    },
    {
     "data": {
      "application/vnd.jupyter.widget-view+json": {
       "model_id": "ed10753b02104f66a3ee9216ba914ceb",
       "version_major": 2,
       "version_minor": 0
      },
      "text/plain": [
       "Text(value='', description='Patient Name:', placeholder='Enter your name')"
      ]
     },
     "metadata": {},
     "output_type": "display_data"
    },
    {
     "data": {
      "application/vnd.jupyter.widget-view+json": {
       "model_id": "d05c2213f9c443b79e085a0a7a8fbe28",
       "version_major": 2,
       "version_minor": 0
      },
      "text/plain": [
       "IntText(value=0, description='Age:')"
      ]
     },
     "metadata": {},
     "output_type": "display_data"
    },
    {
     "data": {
      "application/vnd.jupyter.widget-view+json": {
       "model_id": "3e06375227624aed942dfdd19e48dd0b",
       "version_major": 2,
       "version_minor": 0
      },
      "text/plain": [
       "Dropdown(description='Sex:', options=(('Select your sex', ''), ('Male', 'M'), ('Female', 'F'), ('Other', 'O'))…"
      ]
     },
     "metadata": {},
     "output_type": "display_data"
    },
    {
     "data": {
      "application/vnd.jupyter.widget-view+json": {
       "model_id": "db548c1dcb2c47ae80fdb1ff40a203f3",
       "version_major": 2,
       "version_minor": 0
      },
      "text/plain": [
       "Dropdown(description='Doctor:', options=(('Select a doctor', 0), (1, 'Dr.Gulam Ali Kamdar', 'Opthalmologist'),…"
      ]
     },
     "metadata": {},
     "output_type": "display_data"
    },
    {
     "data": {
      "application/vnd.jupyter.widget-view+json": {
       "model_id": "87c9424eb5de4cf4aee9d89274d7b576",
       "version_major": 2,
       "version_minor": 0
      },
      "text/plain": [
       "DatePicker(value=None, description='Pick a Date', step=1)"
      ]
     },
     "metadata": {},
     "output_type": "display_data"
    },
    {
     "data": {
      "application/vnd.jupyter.widget-view+json": {
       "model_id": "9ea911cc43da4e7a81e689b2d88d34fe",
       "version_major": 2,
       "version_minor": 0
      },
      "text/plain": [
       "Dropdown(description='Time:', options=(), value=None)"
      ]
     },
     "metadata": {},
     "output_type": "display_data"
    },
    {
     "data": {
      "application/vnd.jupyter.widget-view+json": {
       "model_id": "1ad6bbeef84b4b31822d88b8010930f5",
       "version_major": 2,
       "version_minor": 0
      },
      "text/plain": [
       "Button(description='Schedule', style=ButtonStyle())"
      ]
     },
     "metadata": {},
     "output_type": "display_data"
    },
    {
     "data": {
      "application/vnd.jupyter.widget-view+json": {
       "model_id": "d38ed68b400149128d05367b0a598177",
       "version_major": 2,
       "version_minor": 0
      },
      "text/plain": [
       "Output()"
      ]
     },
     "metadata": {},
     "output_type": "display_data"
    }
   ],
   "source": [
    "def appointment_interface(conn):\n",
    "    # Widgets for patient details\n",
    "    patient_name_input = widgets.Text(\n",
    "        description='Patient Name:',\n",
    "        placeholder='Enter your name'\n",
    "    )\n",
    "    \n",
    "    patient_age_input = widgets.IntText(\n",
    "        description='Age:',\n",
    "        placeholder='Enter your age',\n",
    "        min=0  # Ensure age cannot be negative\n",
    "    )\n",
    "    \n",
    "    patient_sex_dropdown = widgets.Dropdown(\n",
    "        options=[('Select your sex', ''), ('Male', 'M'), ('Female', 'F'), ('Other', 'O')],\n",
    "        description='Sex:',\n",
    "    )\n",
    "    \n",
    "    # Widget for selecting a doctor\n",
    "    doctor_dropdown = widgets.Dropdown(\n",
    "        options=[(\"Select a doctor\", 0)] + get_doctors(conn),\n",
    "        description=\"Doctor:\"\n",
    "    )\n",
    "    \n",
    "    # Widget for choosing a date\n",
    "    date_picker = widgets.DatePicker(\n",
    "        description='Pick a Date',\n",
    "        disabled=False\n",
    "    )\n",
    "    \n",
    "    # Widget for selecting a time, initially empty\n",
    "    time_dropdown = widgets.Dropdown(\n",
    "        options=[],\n",
    "        description='Time:',\n",
    "    )\n",
    "    \n",
    "    # Update available time slots when doctor and date are selected\n",
    "    def update_available_times(*args):\n",
    "        # Placeholder function for fetching available times based on doctor and date\n",
    "        # For demonstration, let's assume all slots are available\n",
    "        time_dropdown.options = ['09:00', '10:00', '11:00', '12:00', '13:00', '14:00', '15:00', '16:00']\n",
    "        \n",
    "    doctor_dropdown.observe(update_available_times, 'value')\n",
    "    date_picker.observe(update_available_times, 'value')\n",
    "    \n",
    "    # Output widget to display messages\n",
    "    output = widgets.Output()\n",
    "    \n",
    "    # Button to submit the appointment request\n",
    "    submit_button = widgets.Button(description=\"Schedule\")\n",
    "    \n",
    "    def on_submit(b):\n",
    "        with output:\n",
    "            clear_output()\n",
    "            if doctor_dropdown.value == 0:\n",
    "                print(\"Please select a doctor.\")\n",
    "                return\n",
    "            # Additional validation for patient details can be added here\n",
    "            print(f\"Appointment scheduled for {patient_name_input.value} ({patient_sex_dropdown.value}, {patient_age_input.value} years old) with Doctor ID {doctor_dropdown.value} on {date_picker.value} at {time_dropdown.value}.\")\n",
    "            # Insert logic for scheduling the appointment in the database\n",
    "    \n",
    "    submit_button.on_click(on_submit)\n",
    "    \n",
    "    display(patient_name_input, patient_age_input, patient_sex_dropdown, doctor_dropdown, date_picker, time_dropdown, submit_button, output)\n",
    "\n",
    "# Assuming get_doctors is defined to fetch doctors from your database\n",
    "    \n",
    "conn = sqlite3.connect('hospital_management_system.db')\n",
    "\n",
    "# Call the interface function with the database connection\n",
    "appointment_interface(conn)\n"
   ]
  }
 ],
 "metadata": {
  "kernelspec": {
   "display_name": "Python 3 (ipykernel)",
   "language": "python",
   "name": "python3"
  },
  "language_info": {
   "codemirror_mode": {
    "name": "ipython",
    "version": 3
   },
   "file_extension": ".py",
   "mimetype": "text/x-python",
   "name": "python",
   "nbconvert_exporter": "python",
   "pygments_lexer": "ipython3",
   "version": "3.8.17"
  }
 },
 "nbformat": 4,
 "nbformat_minor": 5
}
